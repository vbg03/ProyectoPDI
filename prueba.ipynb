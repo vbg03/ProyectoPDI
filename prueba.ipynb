{
 "cells": [
  {
   "cell_type": "code",
   "execution_count": null,
   "id": "2fe8dc90",
   "metadata": {},
   "outputs": [
    {
     "name": "stdout",
     "output_type": "stream",
     "text": [
      "PyTorch version: 2.7.0+cu126\n",
      "********************\n",
      "CUDA Version:\n",
      "nvcc: NVIDIA (R) Cuda compiler driver\n",
      "Copyright (c) 2005-2025 NVIDIA Corporation\n",
      "Built on Wed_Apr__9_19:29:17_Pacific_Daylight_Time_2025\n",
      "Cuda compilation tools, release 12.9, V12.9.41\n",
      "Build cuda_12.9.r12.9/compiler.35813241_0\n",
      "********************\n",
      "cuDNN version: 90701\n",
      "Available GPUs: 1\n",
      "CUDA available: NVIDIA GeForce RTX 4050 Laptop GPU\n"
     ]
    }
   ],
   "source": [
    "# Imports Escenciales\n",
    "\n",
    "import torch\n",
    "import torchvision.transforms as tv_transforms\n",
    "import numpy as np\n",
    "from PIL import Image\n",
    "import matplotlib.pyplot as plt\n",
    "import os\n",
    "import sys\n",
    "import copy\n",
    "\n",
    "\n",
    "print(\"PyTorch version:\", torch.__version__)\n",
    "print(\"*\"*20)\n",
    "print(\"CUDA Version:\")\n",
    "!nvcc --version\n",
    "print(\"*\"*20)\n",
    "print(\"cuDNN version:\", torch.backends.cudnn.version())\n",
    "print(\"Available GPUs:\", torch.cuda.device_count())\n",
    "print(\"CUDA available:\", torch.cuda.get_device_name(0) if torch.cuda.is_available() else \"No GPU available\")\n"
   ]
  },
  {
   "cell_type": "code",
   "execution_count": 26,
   "id": "a0c29776",
   "metadata": {},
   "outputs": [
    {
     "name": "stdout",
     "output_type": "stream",
     "text": [
      "Ruta 'c:\\Users\\juand\\Documents\\Universidad Septimo Semestre\\Procesamiento Digital de Imagenes\\Colab\\ProyectoPDI\\StyleGAN-nada/ZSSGAN' añadida a sys.path.\n",
      "Módulos 'dnnlib' y 'legacy' importados correctamente.\n",
      "Imports y configuración de rutas iniciales completados.\n"
     ]
    }
   ],
   "source": [
    "#Imports de StyleGAN-NADA\n",
    "\n",
    "current_working_directory = os.getcwd()\n",
    "zssgan_repo_path = os.path.join(current_working_directory, \"StyleGAN-nada/ZSSGAN\")\n",
    "\n",
    "if not os.path.isdir(zssgan_repo_path):\n",
    "    print(f\"ERROR: El directorio ZSSGAN no se encuentra en '{zssgan_repo_path}'.\")\n",
    "else:\n",
    "    if zssgan_repo_path not in sys.path:\n",
    "        sys.path.append(zssgan_repo_path)\n",
    "        print(f\"Ruta '{zssgan_repo_path}' añadida a sys.path.\")\n",
    "    else:\n",
    "        dnnlib_dir_exists = os.path.isdir(os.path.join(zssgan_repo_path, 'dnnlib'))\n",
    "        legacy_file_exists = os.path.isfile(os.path.join(zssgan_repo_path, 'legacy.py'))\n",
    "        print(f\"Verificación: Directorio 'dnnlib' existe en ZSSGAN: {dnnlib_dir_exists}\")\n",
    "        print(f\"Verificación: Archivo 'legacy.py' existe en ZSSGAN: {legacy_file_exists}\")\n",
    "        if not dnnlib_dir_exists or not legacy_file_exists:\n",
    "            print(\"ADVERTENCIA: 'dnnlib' o 'legacy.py' no encontrados en ZSSGAN.\")\n",
    "\n",
    "try:\n",
    "    import dnnlib\n",
    "    import legacy\n",
    "    print(\"Módulos 'dnnlib' y 'legacy' importados correctamente.\")\n",
    "except ImportError as e_import:\n",
    "    print(f\"ERROR DE IMPORTACIÓN para dnnlib/legacy: {e_import}\")\n",
    "\n",
    "\n",
    "# Otros imports necesarios\n",
    "import lpips\n",
    "import clip\n",
    "from insightface.app import FaceAnalysis # Necesita insightface instalado\n",
    "print(\"Imports y configuración de rutas iniciales completados.\")"
   ]
  },
  {
   "cell_type": "code",
   "execution_count": null,
   "id": "66f46975",
   "metadata": {},
   "outputs": [
    {
     "name": "stdout",
     "output_type": "stream",
     "text": [
      "Dispositivo seleccionado: cuda\n"
     ]
    }
   ],
   "source": [
    "local_project_data_path = os.path.join(current_working_directory, \"ProjectFiles\")\n",
    "os.makedirs(local_project_data_path, exist_ok=True)\n",
    "\n",
    "device = torch.device('cuda' if torch.cuda.is_available() else 'cpu')\n",
    "print(f\"Dispositivo seleccionado: {device}\")\n",
    "\n",
    "# Modelo StyleGAN3 base pre-entrenado\n",
    "base_stylegan3_url = \"https://api.ngc.nvidia.com/v2/models/nvidia/research/stylegan3/versions/1/files/stylegan3-t-ffhqu-1024x1024.pkl\"\n",
    "base_stylegan3_filename = \"stylegan3-t-ffhqu-1024x1024.pkl\"\n",
    "base_stylegan3_path = os.path.join(local_project_data_path, base_stylegan3_filename)\n",
    "\n",
    "# Nombre del archivo del generador StyleGAN3 especializado en Calima/Quimbaya\n",
    "stylized_generator_filename = \"G_stylized_CalimaQuimbaya.pkl\"\n",
    "stylized_generator_path = os.path.join(local_project_data_path, stylized_generator_filename)\n",
    "\n",
    "#Directorio para las imagenes de entrada estilo\n",
    "style_images_input_dir = os.path.join(local_project_data_path, \"style_references_calima_quimbaya/\")\n",
    "os.makedirs(style_images_input_dir, exist_ok=True)\n",
    "print(f\"Directorio para imágenes de estilo (debes colocar tu imagen aquí): {style_images_input_dir}\")"
   ]
  }
 ],
 "metadata": {
  "kernelspec": {
   "display_name": "Python 3",
   "language": "python",
   "name": "python3"
  },
  "language_info": {
   "codemirror_mode": {
    "name": "ipython",
    "version": 3
   },
   "file_extension": ".py",
   "mimetype": "text/x-python",
   "name": "python",
   "nbconvert_exporter": "python",
   "pygments_lexer": "ipython3",
   "version": "3.11.11"
  }
 },
 "nbformat": 4,
 "nbformat_minor": 5
}
